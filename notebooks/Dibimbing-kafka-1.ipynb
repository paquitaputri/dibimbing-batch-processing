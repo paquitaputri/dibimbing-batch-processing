{
 "cells": [
  {
   "cell_type": "code",
   "execution_count": 11,
   "id": "25846da4-c6b2-46a5-b7d1-9809732bb1b9",
   "metadata": {
    "tags": []
   },
   "outputs": [],
   "source": [
    "import json\n",
    "import uuid\n",
    "import os\n",
    "import json\n",
    "from dotenv import load_dotenv\n",
    "from pathlib import Path\n",
    "from kafka import KafkaProducer\n",
    "from faker import Faker\n",
    "from time import sleep"
   ]
  },
  {
   "cell_type": "code",
   "execution_count": 12,
   "id": "42f97822-c06f-47e0-a0a4-87a7bf1d95a9",
   "metadata": {
    "tags": []
   },
   "outputs": [
    {
     "data": {
      "text/plain": [
       "True"
      ]
     },
     "execution_count": 12,
     "metadata": {},
     "output_type": "execute_result"
    }
   ],
   "source": [
    "dotenv_path = Path('/resources/.env')\n",
    "load_dotenv(dotenv_path=dotenv_path)"
   ]
  },
  {
   "cell_type": "code",
   "execution_count": 13,
   "id": "3f89f5a9-8c75-4a38-b48d-ad72c6a13c41",
   "metadata": {
    "tags": []
   },
   "outputs": [],
   "source": [
    "kafka_host = os.getenv('KAFKA_HOST')\n",
    "kafka_topic = os.getenv('KAFKA_TOPIC_NAME')\n",
    "kafka_topic_partition = os.getenv('KAFKA_TOPIC_NAME')+\"-1\"\n",
    "# kafka_topic_partition = \"dibimbing_batch_6\""
   ]
  },
  {
   "cell_type": "code",
   "execution_count": 14,
   "id": "a4a59d22-69c5-4e0a-b1e2-d0d77867c45b",
   "metadata": {
    "tags": []
   },
   "outputs": [
    {
     "name": "stdout",
     "output_type": "stream",
     "text": [
      "dataeng-kafka\n"
     ]
    }
   ],
   "source": [
    "print(kafka_host)"
   ]
  },
  {
   "cell_type": "code",
   "execution_count": 15,
   "id": "8515096d-3bc6-4905-98f5-eb1e6d7bfa4c",
   "metadata": {
    "tags": []
   },
   "outputs": [],
   "source": [
    "producer = KafkaProducer(bootstrap_servers=f'{kafka_host}:9092')"
   ]
  },
  {
   "cell_type": "code",
   "execution_count": 16,
   "id": "78075b5c-08c8-4c43-99a1-0689a87414c4",
   "metadata": {
    "tags": []
   },
   "outputs": [],
   "source": [
    "_instance = Faker()\n",
    "global faker\n",
    "faker = Faker()"
   ]
  },
  {
   "cell_type": "code",
   "execution_count": 22,
   "id": "503ade79-0f77-4970-8e04-ecefce397398",
   "metadata": {
    "tags": []
   },
   "outputs": [
    {
     "name": "stdout",
     "output_type": "stream",
     "text": [
      "89580a7d-7f57-4367-b3b8-1baa227dd945 RecordMetadata(topic='test-topic-1', partition=0, topic_partition=TopicPartition(topic='test-topic-1', partition=0), offset=116, timestamp=1725635922385, log_start_offset=0, checksum=None, serialized_key_size=-1, serialized_value_size=189, serialized_header_size=-1)\n",
      "3a6d2570-f252-447e-ab37-b9b7cc768639 RecordMetadata(topic='test-topic-1', partition=0, topic_partition=TopicPartition(topic='test-topic-1', partition=0), offset=117, timestamp=1725635927421, log_start_offset=0, checksum=None, serialized_key_size=-1, serialized_value_size=184, serialized_header_size=-1)\n",
      "bba82944-c815-4993-a8ba-ec4924ccae4a RecordMetadata(topic='test-topic-1', partition=0, topic_partition=TopicPartition(topic='test-topic-1', partition=0), offset=118, timestamp=1725635932441, log_start_offset=0, checksum=None, serialized_key_size=-1, serialized_value_size=188, serialized_header_size=-1)\n",
      "ebc8b0c5-a93d-4a4b-b426-139ca344e113 RecordMetadata(topic='test-topic-1', partition=0, topic_partition=TopicPartition(topic='test-topic-1', partition=0), offset=119, timestamp=1725635937445, log_start_offset=0, checksum=None, serialized_key_size=-1, serialized_value_size=185, serialized_header_size=-1)\n",
      "a181456e-663a-429a-aa96-af4c213822d4 RecordMetadata(topic='test-topic-1', partition=0, topic_partition=TopicPartition(topic='test-topic-1', partition=0), offset=120, timestamp=1725635942451, log_start_offset=0, checksum=None, serialized_key_size=-1, serialized_value_size=182, serialized_header_size=-1)\n",
      "df51864a-36db-4d64-bb01-e001d32c5cdb RecordMetadata(topic='test-topic-1', partition=0, topic_partition=TopicPartition(topic='test-topic-1', partition=0), offset=121, timestamp=1725635947465, log_start_offset=0, checksum=None, serialized_key_size=-1, serialized_value_size=177, serialized_header_size=-1)\n",
      "b29ead52-eace-4b17-afae-7dc9de7f6dc9 RecordMetadata(topic='test-topic-1', partition=0, topic_partition=TopicPartition(topic='test-topic-1', partition=0), offset=122, timestamp=1725635952531, log_start_offset=0, checksum=None, serialized_key_size=-1, serialized_value_size=182, serialized_header_size=-1)\n",
      "51acf07a-8b10-4539-a47b-00f186e7465a RecordMetadata(topic='test-topic-1', partition=0, topic_partition=TopicPartition(topic='test-topic-1', partition=0), offset=123, timestamp=1725635957544, log_start_offset=0, checksum=None, serialized_key_size=-1, serialized_value_size=182, serialized_header_size=-1)\n",
      "60cae313-9c57-43ee-8e89-a3d937f38276 RecordMetadata(topic='test-topic-1', partition=0, topic_partition=TopicPartition(topic='test-topic-1', partition=0), offset=124, timestamp=1725635962587, log_start_offset=0, checksum=None, serialized_key_size=-1, serialized_value_size=187, serialized_header_size=-1)\n",
      "81d9282f-6305-42d5-95de-bbf55869ef99 RecordMetadata(topic='test-topic-1', partition=0, topic_partition=TopicPartition(topic='test-topic-1', partition=0), offset=125, timestamp=1725635967592, log_start_offset=0, checksum=None, serialized_key_size=-1, serialized_value_size=184, serialized_header_size=-1)\n",
      "bf779f4f-bb4c-4668-aa75-2d22be08bfa9 RecordMetadata(topic='test-topic-1', partition=0, topic_partition=TopicPartition(topic='test-topic-1', partition=0), offset=126, timestamp=1725635972604, log_start_offset=0, checksum=None, serialized_key_size=-1, serialized_value_size=190, serialized_header_size=-1)\n",
      "0a47fb0d-055a-43fb-8e10-9fa20b0ab6d0 RecordMetadata(topic='test-topic-1', partition=0, topic_partition=TopicPartition(topic='test-topic-1', partition=0), offset=127, timestamp=1725635977612, log_start_offset=0, checksum=None, serialized_key_size=-1, serialized_value_size=180, serialized_header_size=-1)\n",
      "8665e3cc-6d6d-46c5-b823-9c8d6699eed4 RecordMetadata(topic='test-topic-1', partition=0, topic_partition=TopicPartition(topic='test-topic-1', partition=0), offset=128, timestamp=1725635982621, log_start_offset=0, checksum=None, serialized_key_size=-1, serialized_value_size=178, serialized_header_size=-1)\n",
      "1a484f85-cfe8-4ad3-a03c-ac0006479d93 RecordMetadata(topic='test-topic-1', partition=0, topic_partition=TopicPartition(topic='test-topic-1', partition=0), offset=129, timestamp=1725635987626, log_start_offset=0, checksum=None, serialized_key_size=-1, serialized_value_size=189, serialized_header_size=-1)\n",
      "88866177-1006-4f4a-a4ee-463b71a82377 RecordMetadata(topic='test-topic-1', partition=0, topic_partition=TopicPartition(topic='test-topic-1', partition=0), offset=130, timestamp=1725635992641, log_start_offset=0, checksum=None, serialized_key_size=-1, serialized_value_size=180, serialized_header_size=-1)\n",
      "14432f0a-b47f-41f5-9990-c8fa7b86cba3 RecordMetadata(topic='test-topic-1', partition=0, topic_partition=TopicPartition(topic='test-topic-1', partition=0), offset=131, timestamp=1725635997649, log_start_offset=0, checksum=None, serialized_key_size=-1, serialized_value_size=184, serialized_header_size=-1)\n",
      "8103c751-4816-4066-8aec-cf7e449ef8eb RecordMetadata(topic='test-topic-1', partition=0, topic_partition=TopicPartition(topic='test-topic-1', partition=0), offset=132, timestamp=1725636002661, log_start_offset=0, checksum=None, serialized_key_size=-1, serialized_value_size=187, serialized_header_size=-1)\n",
      "f57b08f3-a54e-4cd9-838b-3756a3da4c8f RecordMetadata(topic='test-topic-1', partition=0, topic_partition=TopicPartition(topic='test-topic-1', partition=0), offset=133, timestamp=1725636007670, log_start_offset=0, checksum=None, serialized_key_size=-1, serialized_value_size=183, serialized_header_size=-1)\n",
      "855c0a1c-a5ab-4da0-9070-97303d3c2496 RecordMetadata(topic='test-topic-1', partition=0, topic_partition=TopicPartition(topic='test-topic-1', partition=0), offset=134, timestamp=1725636012678, log_start_offset=0, checksum=None, serialized_key_size=-1, serialized_value_size=184, serialized_header_size=-1)\n",
      "8a34bc50-d7a3-4feb-9c29-2926d68a78d1 RecordMetadata(topic='test-topic-1', partition=0, topic_partition=TopicPartition(topic='test-topic-1', partition=0), offset=135, timestamp=1725636017687, log_start_offset=0, checksum=None, serialized_key_size=-1, serialized_value_size=182, serialized_header_size=-1)\n",
      "50add7c4-c002-4ba4-8810-4565f11e37d2 RecordMetadata(topic='test-topic-1', partition=0, topic_partition=TopicPartition(topic='test-topic-1', partition=0), offset=136, timestamp=1725636022701, log_start_offset=0, checksum=None, serialized_key_size=-1, serialized_value_size=187, serialized_header_size=-1)\n",
      "c7d2f986-395c-4ad4-8e17-b1b8a8b63a48 RecordMetadata(topic='test-topic-1', partition=0, topic_partition=TopicPartition(topic='test-topic-1', partition=0), offset=137, timestamp=1725636027711, log_start_offset=0, checksum=None, serialized_key_size=-1, serialized_value_size=182, serialized_header_size=-1)\n",
      "1e9fa56a-6a95-45a5-adf1-5d1bc806798c RecordMetadata(topic='test-topic-1', partition=0, topic_partition=TopicPartition(topic='test-topic-1', partition=0), offset=138, timestamp=1725636032719, log_start_offset=0, checksum=None, serialized_key_size=-1, serialized_value_size=184, serialized_header_size=-1)\n",
      "0591d31f-1fcc-4240-860e-9d6cabe37600 RecordMetadata(topic='test-topic-1', partition=0, topic_partition=TopicPartition(topic='test-topic-1', partition=0), offset=139, timestamp=1725636037723, log_start_offset=0, checksum=None, serialized_key_size=-1, serialized_value_size=184, serialized_header_size=-1)\n",
      "6e99ce2d-e4d1-440b-b965-2663e781b0e7 RecordMetadata(topic='test-topic-1', partition=0, topic_partition=TopicPartition(topic='test-topic-1', partition=0), offset=140, timestamp=1725636042731, log_start_offset=0, checksum=None, serialized_key_size=-1, serialized_value_size=179, serialized_header_size=-1)\n",
      "87ec5305-4888-43c6-b151-b7f9d568e168 RecordMetadata(topic='test-topic-1', partition=0, topic_partition=TopicPartition(topic='test-topic-1', partition=0), offset=141, timestamp=1725636047736, log_start_offset=0, checksum=None, serialized_key_size=-1, serialized_value_size=178, serialized_header_size=-1)\n",
      "d4d21fdf-70a1-404e-92a9-de4aaeff8a1f RecordMetadata(topic='test-topic-1', partition=0, topic_partition=TopicPartition(topic='test-topic-1', partition=0), offset=142, timestamp=1725636052743, log_start_offset=0, checksum=None, serialized_key_size=-1, serialized_value_size=178, serialized_header_size=-1)\n",
      "652bc64b-22ea-4694-9840-9a538ba8be2a RecordMetadata(topic='test-topic-1', partition=0, topic_partition=TopicPartition(topic='test-topic-1', partition=0), offset=143, timestamp=1725636057750, log_start_offset=0, checksum=None, serialized_key_size=-1, serialized_value_size=180, serialized_header_size=-1)\n",
      "c34c9ee0-9fe6-4a93-9072-9175cdbc3f2a RecordMetadata(topic='test-topic-1', partition=0, topic_partition=TopicPartition(topic='test-topic-1', partition=0), offset=144, timestamp=1725636062760, log_start_offset=0, checksum=None, serialized_key_size=-1, serialized_value_size=183, serialized_header_size=-1)\n",
      "102deb98-2add-489a-adc6-a1c41153be11 RecordMetadata(topic='test-topic-1', partition=0, topic_partition=TopicPartition(topic='test-topic-1', partition=0), offset=145, timestamp=1725636067768, log_start_offset=0, checksum=None, serialized_key_size=-1, serialized_value_size=183, serialized_header_size=-1)\n",
      "02191b34-84a3-4cfb-9bfe-933a185fc350 RecordMetadata(topic='test-topic-1', partition=0, topic_partition=TopicPartition(topic='test-topic-1', partition=0), offset=146, timestamp=1725636072778, log_start_offset=0, checksum=None, serialized_key_size=-1, serialized_value_size=181, serialized_header_size=-1)\n",
      "05929759-c4e8-438d-8248-3ec50779b3ac RecordMetadata(topic='test-topic-1', partition=0, topic_partition=TopicPartition(topic='test-topic-1', partition=0), offset=147, timestamp=1725636077785, log_start_offset=0, checksum=None, serialized_key_size=-1, serialized_value_size=180, serialized_header_size=-1)\n",
      "8f8291d7-df6e-4a26-954f-18492187e721 RecordMetadata(topic='test-topic-1', partition=0, topic_partition=TopicPartition(topic='test-topic-1', partition=0), offset=148, timestamp=1725636082808, log_start_offset=0, checksum=None, serialized_key_size=-1, serialized_value_size=190, serialized_header_size=-1)\n",
      "88eadbd9-91a5-49c5-8abb-87d2e79c7b93 RecordMetadata(topic='test-topic-1', partition=0, topic_partition=TopicPartition(topic='test-topic-1', partition=0), offset=149, timestamp=1725636087844, log_start_offset=0, checksum=None, serialized_key_size=-1, serialized_value_size=189, serialized_header_size=-1)\n",
      "759c1ec2-5354-4e51-b7ea-4b5eec95a5ed RecordMetadata(topic='test-topic-1', partition=0, topic_partition=TopicPartition(topic='test-topic-1', partition=0), offset=150, timestamp=1725636092878, log_start_offset=0, checksum=None, serialized_key_size=-1, serialized_value_size=179, serialized_header_size=-1)\n",
      "3f49da83-6b57-4176-a0f4-ea5c3e5526a1 RecordMetadata(topic='test-topic-1', partition=0, topic_partition=TopicPartition(topic='test-topic-1', partition=0), offset=151, timestamp=1725636097892, log_start_offset=0, checksum=None, serialized_key_size=-1, serialized_value_size=183, serialized_header_size=-1)\n",
      "1a302f13-3f8e-41dd-ba56-78a4780c94cc RecordMetadata(topic='test-topic-1', partition=0, topic_partition=TopicPartition(topic='test-topic-1', partition=0), offset=152, timestamp=1725636102905, log_start_offset=0, checksum=None, serialized_key_size=-1, serialized_value_size=184, serialized_header_size=-1)\n",
      "8be5a17d-d6f4-4887-b4cb-ff7a32fd9f5d RecordMetadata(topic='test-topic-1', partition=0, topic_partition=TopicPartition(topic='test-topic-1', partition=0), offset=153, timestamp=1725636107956, log_start_offset=0, checksum=None, serialized_key_size=-1, serialized_value_size=181, serialized_header_size=-1)\n",
      "728fe4f8-e5d4-4dcb-af64-7020f1e9f66e RecordMetadata(topic='test-topic-1', partition=0, topic_partition=TopicPartition(topic='test-topic-1', partition=0), offset=154, timestamp=1725636112962, log_start_offset=0, checksum=None, serialized_key_size=-1, serialized_value_size=187, serialized_header_size=-1)\n",
      "775bd9fd-e375-4bcc-966d-e9b2a39063e7 RecordMetadata(topic='test-topic-1', partition=0, topic_partition=TopicPartition(topic='test-topic-1', partition=0), offset=155, timestamp=1725636117987, log_start_offset=0, checksum=None, serialized_key_size=-1, serialized_value_size=176, serialized_header_size=-1)\n",
      "dd597168-d421-47ef-a605-3c2c7e04e043 RecordMetadata(topic='test-topic-1', partition=0, topic_partition=TopicPartition(topic='test-topic-1', partition=0), offset=156, timestamp=1725636123002, log_start_offset=0, checksum=None, serialized_key_size=-1, serialized_value_size=179, serialized_header_size=-1)\n",
      "d8e6cd3e-fd2a-47a9-ab55-0148c16d8a80 RecordMetadata(topic='test-topic-1', partition=0, topic_partition=TopicPartition(topic='test-topic-1', partition=0), offset=157, timestamp=1725636128009, log_start_offset=0, checksum=None, serialized_key_size=-1, serialized_value_size=183, serialized_header_size=-1)\n",
      "2efedd1f-b887-41fc-988b-16e0a052c262 RecordMetadata(topic='test-topic-1', partition=0, topic_partition=TopicPartition(topic='test-topic-1', partition=0), offset=158, timestamp=1725636133018, log_start_offset=0, checksum=None, serialized_key_size=-1, serialized_value_size=180, serialized_header_size=-1)\n",
      "c260d820-6f7b-4995-8fef-5d9601a0232e RecordMetadata(topic='test-topic-1', partition=0, topic_partition=TopicPartition(topic='test-topic-1', partition=0), offset=159, timestamp=1725636138030, log_start_offset=0, checksum=None, serialized_key_size=-1, serialized_value_size=183, serialized_header_size=-1)\n",
      "de5ff46a-aa38-4143-8a4e-12ae2b206032 RecordMetadata(topic='test-topic-1', partition=0, topic_partition=TopicPartition(topic='test-topic-1', partition=0), offset=160, timestamp=1725636143039, log_start_offset=0, checksum=None, serialized_key_size=-1, serialized_value_size=184, serialized_header_size=-1)\n",
      "92b9469c-a5fe-4d36-bb99-c37a744fae9c RecordMetadata(topic='test-topic-1', partition=0, topic_partition=TopicPartition(topic='test-topic-1', partition=0), offset=161, timestamp=1725636148046, log_start_offset=0, checksum=None, serialized_key_size=-1, serialized_value_size=183, serialized_header_size=-1)\n",
      "77a384b5-6c30-4675-b5ef-ad699a6012ad RecordMetadata(topic='test-topic-1', partition=0, topic_partition=TopicPartition(topic='test-topic-1', partition=0), offset=162, timestamp=1725636153052, log_start_offset=0, checksum=None, serialized_key_size=-1, serialized_value_size=184, serialized_header_size=-1)\n",
      "0db03006-531b-4fe4-87e5-0307396f7a72 RecordMetadata(topic='test-topic-1', partition=0, topic_partition=TopicPartition(topic='test-topic-1', partition=0), offset=163, timestamp=1725636158059, log_start_offset=0, checksum=None, serialized_key_size=-1, serialized_value_size=180, serialized_header_size=-1)\n",
      "4330d664-9570-4417-8de6-6020ab619a39 RecordMetadata(topic='test-topic-1', partition=0, topic_partition=TopicPartition(topic='test-topic-1', partition=0), offset=164, timestamp=1725636163068, log_start_offset=0, checksum=None, serialized_key_size=-1, serialized_value_size=184, serialized_header_size=-1)\n",
      "e6b7529b-e501-42b5-85fe-f738d035c6ac RecordMetadata(topic='test-topic-1', partition=0, topic_partition=TopicPartition(topic='test-topic-1', partition=0), offset=165, timestamp=1725636168080, log_start_offset=0, checksum=None, serialized_key_size=-1, serialized_value_size=181, serialized_header_size=-1)\n",
      "c7fbd9e9-c85d-4ddb-af22-edef5fbcd5ee RecordMetadata(topic='test-topic-1', partition=0, topic_partition=TopicPartition(topic='test-topic-1', partition=0), offset=166, timestamp=1725636173103, log_start_offset=0, checksum=None, serialized_key_size=-1, serialized_value_size=185, serialized_header_size=-1)\n",
      "68a56c71-ffad-4e9f-83bb-49bb66d2c89c RecordMetadata(topic='test-topic-1', partition=0, topic_partition=TopicPartition(topic='test-topic-1', partition=0), offset=167, timestamp=1725636178115, log_start_offset=0, checksum=None, serialized_key_size=-1, serialized_value_size=190, serialized_header_size=-1)\n",
      "e22ac661-2f87-4dd9-ade2-0e5a3a5b1c85 RecordMetadata(topic='test-topic-1', partition=0, topic_partition=TopicPartition(topic='test-topic-1', partition=0), offset=168, timestamp=1725636183127, log_start_offset=0, checksum=None, serialized_key_size=-1, serialized_value_size=183, serialized_header_size=-1)\n",
      "429e64fa-562f-4531-915b-3260525a377f RecordMetadata(topic='test-topic-1', partition=0, topic_partition=TopicPartition(topic='test-topic-1', partition=0), offset=169, timestamp=1725636188136, log_start_offset=0, checksum=None, serialized_key_size=-1, serialized_value_size=181, serialized_header_size=-1)\n",
      "903b57d5-1721-4813-90e6-6a414f057c8f RecordMetadata(topic='test-topic-1', partition=0, topic_partition=TopicPartition(topic='test-topic-1', partition=0), offset=170, timestamp=1725636193146, log_start_offset=0, checksum=None, serialized_key_size=-1, serialized_value_size=182, serialized_header_size=-1)\n",
      "89857329-ca2f-40e4-be5a-83b97d902488 RecordMetadata(topic='test-topic-1', partition=0, topic_partition=TopicPartition(topic='test-topic-1', partition=0), offset=171, timestamp=1725636198151, log_start_offset=0, checksum=None, serialized_key_size=-1, serialized_value_size=180, serialized_header_size=-1)\n",
      "4113a776-6f74-4ba8-8e9d-061d321cb198 RecordMetadata(topic='test-topic-1', partition=0, topic_partition=TopicPartition(topic='test-topic-1', partition=0), offset=172, timestamp=1725636203169, log_start_offset=0, checksum=None, serialized_key_size=-1, serialized_value_size=184, serialized_header_size=-1)\n",
      "1eb02090-9234-47c2-b7df-bbd78cfb0eeb RecordMetadata(topic='test-topic-1', partition=0, topic_partition=TopicPartition(topic='test-topic-1', partition=0), offset=173, timestamp=1725636208178, log_start_offset=0, checksum=None, serialized_key_size=-1, serialized_value_size=183, serialized_header_size=-1)\n",
      "fc999cc8-549f-4340-8f9a-e63117baf7dd RecordMetadata(topic='test-topic-1', partition=0, topic_partition=TopicPartition(topic='test-topic-1', partition=0), offset=174, timestamp=1725636213187, log_start_offset=0, checksum=None, serialized_key_size=-1, serialized_value_size=190, serialized_header_size=-1)\n",
      "228eb1aa-c092-4931-8fa8-5be331d78d26 RecordMetadata(topic='test-topic-1', partition=0, topic_partition=TopicPartition(topic='test-topic-1', partition=0), offset=175, timestamp=1725636218200, log_start_offset=0, checksum=None, serialized_key_size=-1, serialized_value_size=179, serialized_header_size=-1)\n",
      "1e6199d3-6176-4d37-9c2a-16463de7e52d RecordMetadata(topic='test-topic-1', partition=0, topic_partition=TopicPartition(topic='test-topic-1', partition=0), offset=176, timestamp=1725636223209, log_start_offset=0, checksum=None, serialized_key_size=-1, serialized_value_size=182, serialized_header_size=-1)\n",
      "8ee0e194-e4ee-40e4-814d-44e4e3f43e02 RecordMetadata(topic='test-topic-1', partition=0, topic_partition=TopicPartition(topic='test-topic-1', partition=0), offset=177, timestamp=1725636228218, log_start_offset=0, checksum=None, serialized_key_size=-1, serialized_value_size=188, serialized_header_size=-1)\n",
      "28c5456e-f15e-4650-9fbc-391206bea76e RecordMetadata(topic='test-topic-1', partition=0, topic_partition=TopicPartition(topic='test-topic-1', partition=0), offset=178, timestamp=1725636233222, log_start_offset=0, checksum=None, serialized_key_size=-1, serialized_value_size=181, serialized_header_size=-1)\n",
      "eba22d8a-0c36-48fb-83c0-e4f7058ab6cd RecordMetadata(topic='test-topic-1', partition=0, topic_partition=TopicPartition(topic='test-topic-1', partition=0), offset=179, timestamp=1725636238233, log_start_offset=0, checksum=None, serialized_key_size=-1, serialized_value_size=181, serialized_header_size=-1)\n",
      "8ebbdaea-75df-41bf-a493-95aa029a5e82 RecordMetadata(topic='test-topic-1', partition=0, topic_partition=TopicPartition(topic='test-topic-1', partition=0), offset=180, timestamp=1725636243243, log_start_offset=0, checksum=None, serialized_key_size=-1, serialized_value_size=179, serialized_header_size=-1)\n",
      "45a856ef-1112-4545-a3fa-90c736807bcf RecordMetadata(topic='test-topic-1', partition=0, topic_partition=TopicPartition(topic='test-topic-1', partition=0), offset=181, timestamp=1725636248259, log_start_offset=0, checksum=None, serialized_key_size=-1, serialized_value_size=184, serialized_header_size=-1)\n",
      "b9016ca7-9b9d-44c4-adf8-3c5d30aedaa8 RecordMetadata(topic='test-topic-1', partition=0, topic_partition=TopicPartition(topic='test-topic-1', partition=0), offset=182, timestamp=1725636253268, log_start_offset=0, checksum=None, serialized_key_size=-1, serialized_value_size=188, serialized_header_size=-1)\n",
      "b52b8a90-2320-4ceb-b542-106d83de2f25 RecordMetadata(topic='test-topic-1', partition=0, topic_partition=TopicPartition(topic='test-topic-1', partition=0), offset=183, timestamp=1725636258277, log_start_offset=0, checksum=None, serialized_key_size=-1, serialized_value_size=178, serialized_header_size=-1)\n",
      "c31d2377-1672-4555-9493-698b6ef272d2 RecordMetadata(topic='test-topic-1', partition=0, topic_partition=TopicPartition(topic='test-topic-1', partition=0), offset=184, timestamp=1725636263282, log_start_offset=0, checksum=None, serialized_key_size=-1, serialized_value_size=183, serialized_header_size=-1)\n",
      "148558b4-1f4f-4c26-b5c6-f7f69f835ad6 RecordMetadata(topic='test-topic-1', partition=0, topic_partition=TopicPartition(topic='test-topic-1', partition=0), offset=185, timestamp=1725636268296, log_start_offset=0, checksum=None, serialized_key_size=-1, serialized_value_size=180, serialized_header_size=-1)\n",
      "149284a6-4037-407a-8e3f-c2b725ad8190 RecordMetadata(topic='test-topic-1', partition=0, topic_partition=TopicPartition(topic='test-topic-1', partition=0), offset=186, timestamp=1725636273306, log_start_offset=0, checksum=None, serialized_key_size=-1, serialized_value_size=189, serialized_header_size=-1)\n",
      "a7d0bb5d-1ceb-49a7-9f31-622c288cd837 RecordMetadata(topic='test-topic-1', partition=0, topic_partition=TopicPartition(topic='test-topic-1', partition=0), offset=187, timestamp=1725636278315, log_start_offset=0, checksum=None, serialized_key_size=-1, serialized_value_size=188, serialized_header_size=-1)\n",
      "f27b8ff1-5925-427c-a25f-304c591bb56a RecordMetadata(topic='test-topic-1', partition=0, topic_partition=TopicPartition(topic='test-topic-1', partition=0), offset=188, timestamp=1725636283325, log_start_offset=0, checksum=None, serialized_key_size=-1, serialized_value_size=184, serialized_header_size=-1)\n",
      "26865638-0292-421b-ad2f-f15030254783 RecordMetadata(topic='test-topic-1', partition=0, topic_partition=TopicPartition(topic='test-topic-1', partition=0), offset=189, timestamp=1725636288333, log_start_offset=0, checksum=None, serialized_key_size=-1, serialized_value_size=179, serialized_header_size=-1)\n",
      "2f2ae3a0-9738-4208-a97a-dc341e1205a2 RecordMetadata(topic='test-topic-1', partition=0, topic_partition=TopicPartition(topic='test-topic-1', partition=0), offset=190, timestamp=1725636293366, log_start_offset=0, checksum=None, serialized_key_size=-1, serialized_value_size=183, serialized_header_size=-1)\n",
      "43eb2347-8277-4f63-8fc7-36b33ea86ac7 RecordMetadata(topic='test-topic-1', partition=0, topic_partition=TopicPartition(topic='test-topic-1', partition=0), offset=191, timestamp=1725636298386, log_start_offset=0, checksum=None, serialized_key_size=-1, serialized_value_size=182, serialized_header_size=-1)\n",
      "f53e7b50-af9e-452d-8e0f-f4cc1f2211d6 RecordMetadata(topic='test-topic-1', partition=0, topic_partition=TopicPartition(topic='test-topic-1', partition=0), offset=192, timestamp=1725636303399, log_start_offset=0, checksum=None, serialized_key_size=-1, serialized_value_size=177, serialized_header_size=-1)\n",
      "942c4b8a-12d0-4740-8ccd-3395a3928567 RecordMetadata(topic='test-topic-1', partition=0, topic_partition=TopicPartition(topic='test-topic-1', partition=0), offset=193, timestamp=1725636308417, log_start_offset=0, checksum=None, serialized_key_size=-1, serialized_value_size=180, serialized_header_size=-1)\n",
      "a6731e6c-98bc-466c-b642-d02373713b81 RecordMetadata(topic='test-topic-1', partition=0, topic_partition=TopicPartition(topic='test-topic-1', partition=0), offset=194, timestamp=1725636313421, log_start_offset=0, checksum=None, serialized_key_size=-1, serialized_value_size=181, serialized_header_size=-1)\n",
      "eeec1271-8b81-4f0e-be19-e263c4305454 RecordMetadata(topic='test-topic-1', partition=0, topic_partition=TopicPartition(topic='test-topic-1', partition=0), offset=195, timestamp=1725636318429, log_start_offset=0, checksum=None, serialized_key_size=-1, serialized_value_size=181, serialized_header_size=-1)\n",
      "67b66578-6467-4202-aceb-6541485943c9 RecordMetadata(topic='test-topic-1', partition=0, topic_partition=TopicPartition(topic='test-topic-1', partition=0), offset=196, timestamp=1725636323434, log_start_offset=0, checksum=None, serialized_key_size=-1, serialized_value_size=183, serialized_header_size=-1)\n",
      "89613d3c-47b4-497f-aae4-d790a128f7a8 RecordMetadata(topic='test-topic-1', partition=0, topic_partition=TopicPartition(topic='test-topic-1', partition=0), offset=197, timestamp=1725636328444, log_start_offset=0, checksum=None, serialized_key_size=-1, serialized_value_size=187, serialized_header_size=-1)\n",
      "432b140f-914b-42e8-8fa6-77b3a5e04d27 RecordMetadata(topic='test-topic-1', partition=0, topic_partition=TopicPartition(topic='test-topic-1', partition=0), offset=198, timestamp=1725636333454, log_start_offset=0, checksum=None, serialized_key_size=-1, serialized_value_size=179, serialized_header_size=-1)\n",
      "1363e5de-26d0-4ad8-9fd2-cd71cab50360 RecordMetadata(topic='test-topic-1', partition=0, topic_partition=TopicPartition(topic='test-topic-1', partition=0), offset=199, timestamp=1725636338464, log_start_offset=0, checksum=None, serialized_key_size=-1, serialized_value_size=179, serialized_header_size=-1)\n",
      "1f914949-8cdb-4b04-b093-ab96ac1f8872 RecordMetadata(topic='test-topic-1', partition=0, topic_partition=TopicPartition(topic='test-topic-1', partition=0), offset=200, timestamp=1725636343481, log_start_offset=0, checksum=None, serialized_key_size=-1, serialized_value_size=184, serialized_header_size=-1)\n",
      "fa9c98af-bbcb-4945-ab98-395070b65942 RecordMetadata(topic='test-topic-1', partition=0, topic_partition=TopicPartition(topic='test-topic-1', partition=0), offset=201, timestamp=1725636348511, log_start_offset=0, checksum=None, serialized_key_size=-1, serialized_value_size=185, serialized_header_size=-1)\n",
      "31912bbe-2144-4861-8a32-dc9792537263 RecordMetadata(topic='test-topic-1', partition=0, topic_partition=TopicPartition(topic='test-topic-1', partition=0), offset=202, timestamp=1725636353515, log_start_offset=0, checksum=None, serialized_key_size=-1, serialized_value_size=180, serialized_header_size=-1)\n",
      "89af9fb5-41e2-4b8c-a75f-0cb906b42f90 RecordMetadata(topic='test-topic-1', partition=0, topic_partition=TopicPartition(topic='test-topic-1', partition=0), offset=203, timestamp=1725636358526, log_start_offset=0, checksum=None, serialized_key_size=-1, serialized_value_size=184, serialized_header_size=-1)\n",
      "c5b83237-dc62-47ef-ae47-3d807eb1555b RecordMetadata(topic='test-topic-1', partition=0, topic_partition=TopicPartition(topic='test-topic-1', partition=0), offset=204, timestamp=1725636363534, log_start_offset=0, checksum=None, serialized_key_size=-1, serialized_value_size=182, serialized_header_size=-1)\n",
      "04f1cd55-62bc-4c78-ac36-a17133036787 RecordMetadata(topic='test-topic-1', partition=0, topic_partition=TopicPartition(topic='test-topic-1', partition=0), offset=205, timestamp=1725636368544, log_start_offset=0, checksum=None, serialized_key_size=-1, serialized_value_size=186, serialized_header_size=-1)\n",
      "229e7696-b1c1-476f-ade3-2a5bea0b4ad6 RecordMetadata(topic='test-topic-1', partition=0, topic_partition=TopicPartition(topic='test-topic-1', partition=0), offset=206, timestamp=1725636373568, log_start_offset=0, checksum=None, serialized_key_size=-1, serialized_value_size=180, serialized_header_size=-1)\n",
      "f66aae5b-7fc6-4a2a-9aa3-aa4d6d30b4a4 RecordMetadata(topic='test-topic-1', partition=0, topic_partition=TopicPartition(topic='test-topic-1', partition=0), offset=207, timestamp=1725636378581, log_start_offset=0, checksum=None, serialized_key_size=-1, serialized_value_size=182, serialized_header_size=-1)\n",
      "70fac22c-b686-4832-8b50-284e74c4027a RecordMetadata(topic='test-topic-1', partition=0, topic_partition=TopicPartition(topic='test-topic-1', partition=0), offset=208, timestamp=1725636383589, log_start_offset=0, checksum=None, serialized_key_size=-1, serialized_value_size=181, serialized_header_size=-1)\n",
      "589bb086-6628-42fe-9bcc-67ba2fbcb097 RecordMetadata(topic='test-topic-1', partition=0, topic_partition=TopicPartition(topic='test-topic-1', partition=0), offset=209, timestamp=1725636388597, log_start_offset=0, checksum=None, serialized_key_size=-1, serialized_value_size=177, serialized_header_size=-1)\n",
      "599b607a-9fe9-47a1-9ae8-ee9ea5e77208 RecordMetadata(topic='test-topic-1', partition=0, topic_partition=TopicPartition(topic='test-topic-1', partition=0), offset=210, timestamp=1725636393608, log_start_offset=0, checksum=None, serialized_key_size=-1, serialized_value_size=175, serialized_header_size=-1)\n",
      "c9209e3d-5821-404c-8611-f3c609d4b1c6 RecordMetadata(topic='test-topic-1', partition=0, topic_partition=TopicPartition(topic='test-topic-1', partition=0), offset=211, timestamp=1725636398619, log_start_offset=0, checksum=None, serialized_key_size=-1, serialized_value_size=179, serialized_header_size=-1)\n",
      "9a33770d-40b1-4c29-95ed-19d693526d4e RecordMetadata(topic='test-topic-1', partition=0, topic_partition=TopicPartition(topic='test-topic-1', partition=0), offset=212, timestamp=1725636403676, log_start_offset=0, checksum=None, serialized_key_size=-1, serialized_value_size=185, serialized_header_size=-1)\n",
      "a6d11ed8-62cb-4180-bf20-5d35bdfca155 RecordMetadata(topic='test-topic-1', partition=0, topic_partition=TopicPartition(topic='test-topic-1', partition=0), offset=213, timestamp=1725636408683, log_start_offset=0, checksum=None, serialized_key_size=-1, serialized_value_size=183, serialized_header_size=-1)\n",
      "c033b5cd-8453-4330-89ad-08deca2788cc RecordMetadata(topic='test-topic-1', partition=0, topic_partition=TopicPartition(topic='test-topic-1', partition=0), offset=214, timestamp=1725636413688, log_start_offset=0, checksum=None, serialized_key_size=-1, serialized_value_size=180, serialized_header_size=-1)\n",
      "7176a83e-51db-423e-b7aa-4d13c510fac9 RecordMetadata(topic='test-topic-1', partition=0, topic_partition=TopicPartition(topic='test-topic-1', partition=0), offset=215, timestamp=1725636418698, log_start_offset=0, checksum=None, serialized_key_size=-1, serialized_value_size=183, serialized_header_size=-1)\n",
      "ba703ae1-5867-4bb3-83a8-59dd110329aa RecordMetadata(topic='test-topic-1', partition=0, topic_partition=TopicPartition(topic='test-topic-1', partition=0), offset=216, timestamp=1725636423707, log_start_offset=0, checksum=None, serialized_key_size=-1, serialized_value_size=185, serialized_header_size=-1)\n",
      "92d234d4-2fe8-4aa9-a3fa-1d6e60d7fb63 RecordMetadata(topic='test-topic-1', partition=0, topic_partition=TopicPartition(topic='test-topic-1', partition=0), offset=217, timestamp=1725636428716, log_start_offset=0, checksum=None, serialized_key_size=-1, serialized_value_size=179, serialized_header_size=-1)\n",
      "acbd8ec1-0c25-475f-b342-92a9a819deb0 RecordMetadata(topic='test-topic-1', partition=0, topic_partition=TopicPartition(topic='test-topic-1', partition=0), offset=218, timestamp=1725636433721, log_start_offset=0, checksum=None, serialized_key_size=-1, serialized_value_size=186, serialized_header_size=-1)\n",
      "bc832870-0727-4b26-9bb3-18e26825fd1d RecordMetadata(topic='test-topic-1', partition=0, topic_partition=TopicPartition(topic='test-topic-1', partition=0), offset=219, timestamp=1725636438751, log_start_offset=0, checksum=None, serialized_key_size=-1, serialized_value_size=186, serialized_header_size=-1)\n",
      "d2bd2a06-a6f7-485f-8f8e-11335568fa7d RecordMetadata(topic='test-topic-1', partition=0, topic_partition=TopicPartition(topic='test-topic-1', partition=0), offset=220, timestamp=1725636443807, log_start_offset=0, checksum=None, serialized_key_size=-1, serialized_value_size=181, serialized_header_size=-1)\n",
      "528b91e3-dd7b-4515-b2a0-847fd4ac0c50 RecordMetadata(topic='test-topic-1', partition=0, topic_partition=TopicPartition(topic='test-topic-1', partition=0), offset=221, timestamp=1725636448831, log_start_offset=0, checksum=None, serialized_key_size=-1, serialized_value_size=179, serialized_header_size=-1)\n",
      "d893abfc-f04c-4113-83fb-83b42e134705 RecordMetadata(topic='test-topic-1', partition=0, topic_partition=TopicPartition(topic='test-topic-1', partition=0), offset=222, timestamp=1725636453839, log_start_offset=0, checksum=None, serialized_key_size=-1, serialized_value_size=179, serialized_header_size=-1)\n",
      "a1d5dc35-6a9d-4712-8f5e-33aae05d16b7 RecordMetadata(topic='test-topic-1', partition=0, topic_partition=TopicPartition(topic='test-topic-1', partition=0), offset=223, timestamp=1725636458850, log_start_offset=0, checksum=None, serialized_key_size=-1, serialized_value_size=178, serialized_header_size=-1)\n",
      "4ae40b02-7a07-417d-8971-afeedb6ae068 RecordMetadata(topic='test-topic-1', partition=0, topic_partition=TopicPartition(topic='test-topic-1', partition=0), offset=224, timestamp=1725636463875, log_start_offset=0, checksum=None, serialized_key_size=-1, serialized_value_size=186, serialized_header_size=-1)\n",
      "76d2443f-5b72-4bf0-8999-6e3c535fdff2 RecordMetadata(topic='test-topic-1', partition=0, topic_partition=TopicPartition(topic='test-topic-1', partition=0), offset=225, timestamp=1725636468883, log_start_offset=0, checksum=None, serialized_key_size=-1, serialized_value_size=187, serialized_header_size=-1)\n",
      "4774df15-012d-4d3c-801a-b72cda7cf4b1 RecordMetadata(topic='test-topic-1', partition=0, topic_partition=TopicPartition(topic='test-topic-1', partition=0), offset=226, timestamp=1725636473909, log_start_offset=0, checksum=None, serialized_key_size=-1, serialized_value_size=186, serialized_header_size=-1)\n",
      "cbe826b6-de5f-4f33-a609-4e7828ce80f1 RecordMetadata(topic='test-topic-1', partition=0, topic_partition=TopicPartition(topic='test-topic-1', partition=0), offset=227, timestamp=1725636478927, log_start_offset=0, checksum=None, serialized_key_size=-1, serialized_value_size=189, serialized_header_size=-1)\n",
      "9d1e37ff-dfa3-4044-9f20-50d7b401d71f RecordMetadata(topic='test-topic-1', partition=0, topic_partition=TopicPartition(topic='test-topic-1', partition=0), offset=228, timestamp=1725636483939, log_start_offset=0, checksum=None, serialized_key_size=-1, serialized_value_size=179, serialized_header_size=-1)\n",
      "ad86f45f-4e7e-41d3-b61a-83d66a160dae RecordMetadata(topic='test-topic-1', partition=0, topic_partition=TopicPartition(topic='test-topic-1', partition=0), offset=229, timestamp=1725636488949, log_start_offset=0, checksum=None, serialized_key_size=-1, serialized_value_size=179, serialized_header_size=-1)\n",
      "7a24af86-0acc-48ba-886c-d8389ed06c15 RecordMetadata(topic='test-topic-1', partition=0, topic_partition=TopicPartition(topic='test-topic-1', partition=0), offset=230, timestamp=1725636493954, log_start_offset=0, checksum=None, serialized_key_size=-1, serialized_value_size=181, serialized_header_size=-1)\n",
      "bf24fd09-fc53-4d88-8ebf-4f9c1fe599b1 RecordMetadata(topic='test-topic-1', partition=0, topic_partition=TopicPartition(topic='test-topic-1', partition=0), offset=231, timestamp=1725636498963, log_start_offset=0, checksum=None, serialized_key_size=-1, serialized_value_size=183, serialized_header_size=-1)\n",
      "3692a2ef-27a1-4087-ad62-8fe72e432cd9 RecordMetadata(topic='test-topic-1', partition=0, topic_partition=TopicPartition(topic='test-topic-1', partition=0), offset=232, timestamp=1725636503978, log_start_offset=0, checksum=None, serialized_key_size=-1, serialized_value_size=180, serialized_header_size=-1)\n",
      "5832e57f-d0b9-4222-b3f8-70e8d19a9797 RecordMetadata(topic='test-topic-1', partition=0, topic_partition=TopicPartition(topic='test-topic-1', partition=0), offset=233, timestamp=1725636508987, log_start_offset=0, checksum=None, serialized_key_size=-1, serialized_value_size=177, serialized_header_size=-1)\n",
      "af83a5f0-0e0a-441f-81e1-2ab80d469195 RecordMetadata(topic='test-topic-1', partition=0, topic_partition=TopicPartition(topic='test-topic-1', partition=0), offset=234, timestamp=1725636513997, log_start_offset=0, checksum=None, serialized_key_size=-1, serialized_value_size=177, serialized_header_size=-1)\n",
      "a6f930f1-bffe-42bf-9d7a-28adb607a2eb RecordMetadata(topic='test-topic-1', partition=0, topic_partition=TopicPartition(topic='test-topic-1', partition=0), offset=235, timestamp=1725636519001, log_start_offset=0, checksum=None, serialized_key_size=-1, serialized_value_size=181, serialized_header_size=-1)\n",
      "aa36c15d-e16b-484c-94ba-d0af237835a9 RecordMetadata(topic='test-topic-1', partition=0, topic_partition=TopicPartition(topic='test-topic-1', partition=0), offset=236, timestamp=1725636524008, log_start_offset=0, checksum=None, serialized_key_size=-1, serialized_value_size=179, serialized_header_size=-1)\n",
      "2784f96e-01d4-4b3d-9869-4c0de9ac62f1 RecordMetadata(topic='test-topic-1', partition=0, topic_partition=TopicPartition(topic='test-topic-1', partition=0), offset=237, timestamp=1725636529033, log_start_offset=0, checksum=None, serialized_key_size=-1, serialized_value_size=182, serialized_header_size=-1)\n",
      "51546b65-908d-4b46-8ff7-ebc0d1ee3bcc RecordMetadata(topic='test-topic-1', partition=0, topic_partition=TopicPartition(topic='test-topic-1', partition=0), offset=238, timestamp=1725636534038, log_start_offset=0, checksum=None, serialized_key_size=-1, serialized_value_size=186, serialized_header_size=-1)\n",
      "a35f6eab-00a4-43e6-b7db-df6112068bb2 RecordMetadata(topic='test-topic-1', partition=0, topic_partition=TopicPartition(topic='test-topic-1', partition=0), offset=239, timestamp=1725636539054, log_start_offset=0, checksum=None, serialized_key_size=-1, serialized_value_size=178, serialized_header_size=-1)\n",
      "b6405fcc-6463-4dff-86f1-164357b5a567 RecordMetadata(topic='test-topic-1', partition=0, topic_partition=TopicPartition(topic='test-topic-1', partition=0), offset=240, timestamp=1725636544061, log_start_offset=0, checksum=None, serialized_key_size=-1, serialized_value_size=185, serialized_header_size=-1)\n",
      "d88335d1-9a80-4398-b421-fb706b972634 RecordMetadata(topic='test-topic-1', partition=0, topic_partition=TopicPartition(topic='test-topic-1', partition=0), offset=241, timestamp=1725636549070, log_start_offset=0, checksum=None, serialized_key_size=-1, serialized_value_size=182, serialized_header_size=-1)\n",
      "d1c06709-ac97-4f49-8f4a-4df5685e0e85 RecordMetadata(topic='test-topic-1', partition=0, topic_partition=TopicPartition(topic='test-topic-1', partition=0), offset=242, timestamp=1725636554079, log_start_offset=0, checksum=None, serialized_key_size=-1, serialized_value_size=182, serialized_header_size=-1)\n",
      "db3feebb-ff7f-4624-9271-c8beb43a8d32 RecordMetadata(topic='test-topic-1', partition=0, topic_partition=TopicPartition(topic='test-topic-1', partition=0), offset=243, timestamp=1725636559087, log_start_offset=0, checksum=None, serialized_key_size=-1, serialized_value_size=186, serialized_header_size=-1)\n",
      "7a6888f1-3ae5-4fb1-a4c3-c7e0ebc40dd8 RecordMetadata(topic='test-topic-1', partition=0, topic_partition=TopicPartition(topic='test-topic-1', partition=0), offset=244, timestamp=1725636564093, log_start_offset=0, checksum=None, serialized_key_size=-1, serialized_value_size=180, serialized_header_size=-1)\n",
      "c4120ced-eed8-4f32-bc90-512881c7a098 RecordMetadata(topic='test-topic-1', partition=0, topic_partition=TopicPartition(topic='test-topic-1', partition=0), offset=245, timestamp=1725636569108, log_start_offset=0, checksum=None, serialized_key_size=-1, serialized_value_size=186, serialized_header_size=-1)\n",
      "be259db1-0c26-4310-be9f-5ec3e4f3207e RecordMetadata(topic='test-topic-1', partition=0, topic_partition=TopicPartition(topic='test-topic-1', partition=0), offset=246, timestamp=1725636574118, log_start_offset=0, checksum=None, serialized_key_size=-1, serialized_value_size=178, serialized_header_size=-1)\n",
      "02e751c2-a0f6-4f4c-8c0e-bf08e8a49016 RecordMetadata(topic='test-topic-1', partition=0, topic_partition=TopicPartition(topic='test-topic-1', partition=0), offset=247, timestamp=1725636579129, log_start_offset=0, checksum=None, serialized_key_size=-1, serialized_value_size=185, serialized_header_size=-1)\n",
      "086e2aef-51df-4610-81f3-2bf52a6f7b9c RecordMetadata(topic='test-topic-1', partition=0, topic_partition=TopicPartition(topic='test-topic-1', partition=0), offset=248, timestamp=1725636584137, log_start_offset=0, checksum=None, serialized_key_size=-1, serialized_value_size=183, serialized_header_size=-1)\n",
      "3158ef87-75e8-42ed-a004-20a77304decd RecordMetadata(topic='test-topic-1', partition=0, topic_partition=TopicPartition(topic='test-topic-1', partition=0), offset=249, timestamp=1725636589148, log_start_offset=0, checksum=None, serialized_key_size=-1, serialized_value_size=176, serialized_header_size=-1)\n",
      "927c4dec-e223-48bc-9990-d890825679a4 RecordMetadata(topic='test-topic-1', partition=0, topic_partition=TopicPartition(topic='test-topic-1', partition=0), offset=250, timestamp=1725636594153, log_start_offset=0, checksum=None, serialized_key_size=-1, serialized_value_size=181, serialized_header_size=-1)\n",
      "06ef2e61-d494-4d45-9e49-253a580f10e9 RecordMetadata(topic='test-topic-1', partition=0, topic_partition=TopicPartition(topic='test-topic-1', partition=0), offset=251, timestamp=1725636599160, log_start_offset=0, checksum=None, serialized_key_size=-1, serialized_value_size=185, serialized_header_size=-1)\n",
      "85308c7b-ed59-41a3-8d6a-3843b39cc296 RecordMetadata(topic='test-topic-1', partition=0, topic_partition=TopicPartition(topic='test-topic-1', partition=0), offset=252, timestamp=1725636604169, log_start_offset=0, checksum=None, serialized_key_size=-1, serialized_value_size=186, serialized_header_size=-1)\n",
      "1a9eb6df-7891-4d01-b26f-edccb167c954 RecordMetadata(topic='test-topic-1', partition=0, topic_partition=TopicPartition(topic='test-topic-1', partition=0), offset=253, timestamp=1725636609182, log_start_offset=0, checksum=None, serialized_key_size=-1, serialized_value_size=182, serialized_header_size=-1)\n",
      "7d33ac65-9016-4b9a-8140-d094523833f1 RecordMetadata(topic='test-topic-1', partition=0, topic_partition=TopicPartition(topic='test-topic-1', partition=0), offset=254, timestamp=1725636614192, log_start_offset=0, checksum=None, serialized_key_size=-1, serialized_value_size=187, serialized_header_size=-1)\n",
      "b2cb104f-5a72-4237-91d5-e0fb242a2fcc RecordMetadata(topic='test-topic-1', partition=0, topic_partition=TopicPartition(topic='test-topic-1', partition=0), offset=255, timestamp=1725636619203, log_start_offset=0, checksum=None, serialized_key_size=-1, serialized_value_size=179, serialized_header_size=-1)\n",
      "cbfc33bd-a675-404a-aa7a-ceed414f5a19 RecordMetadata(topic='test-topic-1', partition=0, topic_partition=TopicPartition(topic='test-topic-1', partition=0), offset=256, timestamp=1725636624214, log_start_offset=0, checksum=None, serialized_key_size=-1, serialized_value_size=178, serialized_header_size=-1)\n",
      "d84dbba5-43d4-4180-a773-97395bf050d6 RecordMetadata(topic='test-topic-1', partition=0, topic_partition=TopicPartition(topic='test-topic-1', partition=0), offset=257, timestamp=1725636629222, log_start_offset=0, checksum=None, serialized_key_size=-1, serialized_value_size=184, serialized_header_size=-1)\n",
      "20a41c5e-1a9f-4e56-8d56-0203ef534496 RecordMetadata(topic='test-topic-1', partition=0, topic_partition=TopicPartition(topic='test-topic-1', partition=0), offset=258, timestamp=1725636634230, log_start_offset=0, checksum=None, serialized_key_size=-1, serialized_value_size=180, serialized_header_size=-1)\n",
      "5c2fdaa2-ff12-42c2-bf67-8c0edd5fa689 RecordMetadata(topic='test-topic-1', partition=0, topic_partition=TopicPartition(topic='test-topic-1', partition=0), offset=259, timestamp=1725636639242, log_start_offset=0, checksum=None, serialized_key_size=-1, serialized_value_size=184, serialized_header_size=-1)\n",
      "cac29286-90fb-4968-8d6a-06d27e5523fc RecordMetadata(topic='test-topic-1', partition=0, topic_partition=TopicPartition(topic='test-topic-1', partition=0), offset=260, timestamp=1725636644249, log_start_offset=0, checksum=None, serialized_key_size=-1, serialized_value_size=198, serialized_header_size=-1)\n",
      "681220cb-4236-4d60-b93f-21c57b54cd73 RecordMetadata(topic='test-topic-1', partition=0, topic_partition=TopicPartition(topic='test-topic-1', partition=0), offset=261, timestamp=1725636649264, log_start_offset=0, checksum=None, serialized_key_size=-1, serialized_value_size=190, serialized_header_size=-1)\n",
      "b684ef1c-5e02-4fa0-9070-d77cd2fb5bb5 RecordMetadata(topic='test-topic-1', partition=0, topic_partition=TopicPartition(topic='test-topic-1', partition=0), offset=262, timestamp=1725636654272, log_start_offset=0, checksum=None, serialized_key_size=-1, serialized_value_size=181, serialized_header_size=-1)\n",
      "c77346cd-c8f2-4335-ae35-563d8c2f9f9c RecordMetadata(topic='test-topic-1', partition=0, topic_partition=TopicPartition(topic='test-topic-1', partition=0), offset=263, timestamp=1725636659283, log_start_offset=0, checksum=None, serialized_key_size=-1, serialized_value_size=184, serialized_header_size=-1)\n",
      "a3316c89-51b4-4656-be7c-0d059daf9584 RecordMetadata(topic='test-topic-1', partition=0, topic_partition=TopicPartition(topic='test-topic-1', partition=0), offset=264, timestamp=1725636664313, log_start_offset=0, checksum=None, serialized_key_size=-1, serialized_value_size=187, serialized_header_size=-1)\n",
      "840ab322-91f2-40e4-a13b-3978685f46ac RecordMetadata(topic='test-topic-1', partition=0, topic_partition=TopicPartition(topic='test-topic-1', partition=0), offset=265, timestamp=1725636669325, log_start_offset=0, checksum=None, serialized_key_size=-1, serialized_value_size=185, serialized_header_size=-1)\n",
      "66f440c8-2ebd-4d10-94c4-2e4a94f4c115 RecordMetadata(topic='test-topic-1', partition=0, topic_partition=TopicPartition(topic='test-topic-1', partition=0), offset=266, timestamp=1725636674333, log_start_offset=0, checksum=None, serialized_key_size=-1, serialized_value_size=181, serialized_header_size=-1)\n",
      "40ee03cb-e68f-4ca1-8c3b-8a914baf01be RecordMetadata(topic='test-topic-1', partition=0, topic_partition=TopicPartition(topic='test-topic-1', partition=0), offset=267, timestamp=1725636679349, log_start_offset=0, checksum=None, serialized_key_size=-1, serialized_value_size=183, serialized_header_size=-1)\n",
      "da424752-e9aa-4c0c-9500-a703f3b36d97 RecordMetadata(topic='test-topic-1', partition=0, topic_partition=TopicPartition(topic='test-topic-1', partition=0), offset=268, timestamp=1725636684358, log_start_offset=0, checksum=None, serialized_key_size=-1, serialized_value_size=180, serialized_header_size=-1)\n",
      "b4a78229-3fba-48e4-ac61-840070a55562 RecordMetadata(topic='test-topic-1', partition=0, topic_partition=TopicPartition(topic='test-topic-1', partition=0), offset=269, timestamp=1725636689367, log_start_offset=0, checksum=None, serialized_key_size=-1, serialized_value_size=178, serialized_header_size=-1)\n",
      "0e7c6d4a-f12e-4f0e-9851-e70acbe1391c RecordMetadata(topic='test-topic-1', partition=0, topic_partition=TopicPartition(topic='test-topic-1', partition=0), offset=270, timestamp=1725636694375, log_start_offset=0, checksum=None, serialized_key_size=-1, serialized_value_size=184, serialized_header_size=-1)\n",
      "2fd2a789-546c-4983-861f-c42ada62e47b RecordMetadata(topic='test-topic-1', partition=0, topic_partition=TopicPartition(topic='test-topic-1', partition=0), offset=271, timestamp=1725636699383, log_start_offset=0, checksum=None, serialized_key_size=-1, serialized_value_size=181, serialized_header_size=-1)\n",
      "d94591ad-3019-495a-9464-342a7a673f51 RecordMetadata(topic='test-topic-1', partition=0, topic_partition=TopicPartition(topic='test-topic-1', partition=0), offset=272, timestamp=1725636704395, log_start_offset=0, checksum=None, serialized_key_size=-1, serialized_value_size=182, serialized_header_size=-1)\n",
      "027194ee-5f54-4f91-bd81-e4806e71c402 RecordMetadata(topic='test-topic-1', partition=0, topic_partition=TopicPartition(topic='test-topic-1', partition=0), offset=273, timestamp=1725636709402, log_start_offset=0, checksum=None, serialized_key_size=-1, serialized_value_size=186, serialized_header_size=-1)\n",
      "a8c6310e-df5c-4ae7-84dc-80e4b8e66a47 RecordMetadata(topic='test-topic-1', partition=0, topic_partition=TopicPartition(topic='test-topic-1', partition=0), offset=274, timestamp=1725636714410, log_start_offset=0, checksum=None, serialized_key_size=-1, serialized_value_size=190, serialized_header_size=-1)\n",
      "5a96bde8-e419-478c-8d39-28f20c340ebf RecordMetadata(topic='test-topic-1', partition=0, topic_partition=TopicPartition(topic='test-topic-1', partition=0), offset=275, timestamp=1725636719423, log_start_offset=0, checksum=None, serialized_key_size=-1, serialized_value_size=194, serialized_header_size=-1)\n",
      "b005609b-88cf-411e-9965-4837ef04605f RecordMetadata(topic='test-topic-1', partition=0, topic_partition=TopicPartition(topic='test-topic-1', partition=0), offset=276, timestamp=1725636724445, log_start_offset=0, checksum=None, serialized_key_size=-1, serialized_value_size=190, serialized_header_size=-1)\n",
      "1f6799a3-48e2-426e-a1c7-2e061f2c3e8f RecordMetadata(topic='test-topic-1', partition=0, topic_partition=TopicPartition(topic='test-topic-1', partition=0), offset=277, timestamp=1725636729452, log_start_offset=0, checksum=None, serialized_key_size=-1, serialized_value_size=184, serialized_header_size=-1)\n",
      "6ab36724-d9cf-4d15-b73a-a979195a229e RecordMetadata(topic='test-topic-1', partition=0, topic_partition=TopicPartition(topic='test-topic-1', partition=0), offset=278, timestamp=1725636734459, log_start_offset=0, checksum=None, serialized_key_size=-1, serialized_value_size=178, serialized_header_size=-1)\n",
      "ef5d9622-915a-449b-a3c5-7df59a913f96 RecordMetadata(topic='test-topic-1', partition=0, topic_partition=TopicPartition(topic='test-topic-1', partition=0), offset=279, timestamp=1725636739467, log_start_offset=0, checksum=None, serialized_key_size=-1, serialized_value_size=179, serialized_header_size=-1)\n"
     ]
    },
    {
     "ename": "KeyboardInterrupt",
     "evalue": "",
     "output_type": "error",
     "traceback": [
      "\u001b[0;31m---------------------------------------------------------------------------\u001b[0m",
      "\u001b[0;31mKeyboardInterrupt\u001b[0m                         Traceback (most recent call last)",
      "Cell \u001b[0;32mIn[22], line 26\u001b[0m\n\u001b[1;32m     24\u001b[0m \u001b[38;5;28mprint\u001b[39m(json_data[\u001b[38;5;124m'\u001b[39m\u001b[38;5;124memp_id\u001b[39m\u001b[38;5;124m'\u001b[39m],response\u001b[38;5;241m.\u001b[39mget())\n\u001b[1;32m     25\u001b[0m \u001b[38;5;66;03m# print(_payload)\u001b[39;00m\n\u001b[0;32m---> 26\u001b[0m \u001b[43msleep\u001b[49m\u001b[43m(\u001b[49m\u001b[38;5;241;43m5\u001b[39;49m\u001b[43m)\u001b[49m\n",
      "\u001b[0;31mKeyboardInterrupt\u001b[0m: "
     ]
    }
   ],
   "source": [
    "class DataGenerator(object):\n",
    "    @staticmethod\n",
    "    def get_data():\n",
    "        return [\n",
    "                uuid.uuid4().__str__(),\n",
    "                faker.name(),\n",
    "                faker.random_element(elements=('IT', 'HR', 'Sales', 'Marketing')),\n",
    "                faker.random_element(elements=('CA', 'NY', 'TX', 'FL', 'IL', 'RJ')),\n",
    "                faker.random_int(min=10000, max=150000),\n",
    "                faker.random_int(min=18, max=60),\n",
    "                faker.random_int(min=0, max=100000),\n",
    "                faker.unix_time()\n",
    "        ]\n",
    "\n",
    "for i in range(1,400):\n",
    "    columns =  [\"emp_id\", \"employee_name\", \"department\", \"state\", \"salary\", \"age\", \"bonus\", \"ts\", \"new\"]\n",
    "    data_list = DataGenerator.get_data()\n",
    "    json_data = dict(\n",
    "        zip(columns,data_list)\n",
    "    )\n",
    "    _payload = json.dumps(json_data).encode(\"utf-8\")\n",
    "    response = producer.send(topic=kafka_topic_partition, value=_payload)\n",
    "    # response = producer.send(topic=kafka_topic_partition, value=_payload, partition=2)\n",
    "    print(json_data['emp_id'],response.get())\n",
    "    # print(_payload)\n",
    "    sleep(5)"
   ]
  },
  {
   "cell_type": "code",
   "execution_count": null,
   "id": "67c9fb23-6186-40a8-bc10-fbc8d08837c5",
   "metadata": {},
   "outputs": [],
   "source": []
  }
 ],
 "metadata": {
  "kernelspec": {
   "display_name": "Python 3 (ipykernel)",
   "language": "python",
   "name": "python3"
  },
  "language_info": {
   "codemirror_mode": {
    "name": "ipython",
    "version": 3
   },
   "file_extension": ".py",
   "mimetype": "text/x-python",
   "name": "python",
   "nbconvert_exporter": "python",
   "pygments_lexer": "ipython3",
   "version": "3.10.10"
  }
 },
 "nbformat": 4,
 "nbformat_minor": 5
}
